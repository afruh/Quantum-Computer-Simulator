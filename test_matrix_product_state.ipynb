{
 "cells": [
  {
   "cell_type": "code",
   "execution_count": 2,
   "metadata": {},
   "outputs": [
    {
     "name": "stderr",
     "output_type": "stream",
     "text": [
      "c:\\Users\\afrok\\miniconda3\\lib\\site-packages\\numpy\\_distributor_init.py:30: UserWarning: loaded more than 1 DLL from .libs:\n",
      "c:\\Users\\afrok\\miniconda3\\lib\\site-packages\\numpy\\.libs\\libopenblas64__v0.3.21-gcc_10_3_0.dll\n",
      "c:\\Users\\afrok\\miniconda3\\lib\\site-packages\\numpy\\.libs\\libopenblas64__v0.3.23-246-g3d31191b-gcc_10_3_0.dll\n",
      "  warnings.warn(\"loaded more than 1 DLL from .libs:\"\n"
     ]
    }
   ],
   "source": [
    "import numpy as np\n",
    "import matplotlib.pyplot as plt"
   ]
  },
  {
   "cell_type": "code",
   "execution_count": null,
   "metadata": {},
   "outputs": [],
   "source": []
  },
  {
   "cell_type": "code",
   "execution_count": 3,
   "metadata": {},
   "outputs": [
    {
     "name": "stdout",
     "output_type": "stream",
     "text": [
      "[[[0.+0.j 0.+0.j 0.+0.j 0.+0.j]\n",
      "  [0.+0.j 0.+0.j 0.+0.j 0.+0.j]]\n",
      "\n",
      " [[0.+0.j 0.+0.j 0.+0.j 0.+0.j]\n",
      "  [0.+0.j 0.+0.j 0.+0.j 0.+0.j]]\n",
      "\n",
      " [[0.+0.j 0.+0.j 0.+0.j 0.+0.j]\n",
      "  [0.+0.j 0.+0.j 0.+0.j 0.+0.j]]\n",
      "\n",
      " [[0.+0.j 0.+0.j 0.+0.j 0.+0.j]\n",
      "  [0.+0.j 0.+0.j 0.+0.j 0.+0.j]]]\n"
     ]
    }
   ],
   "source": [
    "print(np.zeros((4,2,4),dtype=complex))"
   ]
  }
 ],
 "metadata": {
  "kernelspec": {
   "display_name": "base",
   "language": "python",
   "name": "python3"
  },
  "language_info": {
   "codemirror_mode": {
    "name": "ipython",
    "version": 3
   },
   "file_extension": ".py",
   "mimetype": "text/x-python",
   "name": "python",
   "nbconvert_exporter": "python",
   "pygments_lexer": "ipython3",
   "version": "3.10.13"
  }
 },
 "nbformat": 4,
 "nbformat_minor": 2
}
