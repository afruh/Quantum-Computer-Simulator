{
 "cells": [
  {
   "cell_type": "markdown",
   "id": "bb814b6a",
   "metadata": {},
   "source": [
    "# Statevector simulator\n",
    "\n",
    "Quick solution to the exercise of Lecture 2.\n",
    "\n",
    "## A classical simulator for quantum circuits"
   ]
  },
  {
   "cell_type": "code",
   "execution_count": 2,
   "id": "fdfedde6",
   "metadata": {},
   "outputs": [
    {
     "name": "stdout",
     "output_type": "stream",
     "text": [
      "|00> : (0.7071067811865475+0j) \n",
      "|01> : 0j \n",
      "|10> : 0j \n",
      "|11> : (0.7071067811865475+0j) \n",
      "\n"
     ]
    }
   ],
   "source": [
    "import numpy as np\n",
    "import matplotlib.pyplot as plt\n",
    "\n",
    "from tools import Circuit, gate_dic\n",
    "from state_vector_qpu import State, StateVectorQPU\n",
    "\n",
    "# a couple of tests\n",
    "psi = State(2)\n",
    "assert(np.linalg.norm(psi.to_vec() - np.array([1, 0, 0, 0]))<1e-13)\n",
    "\n",
    "psi.apply(\"H\", [0])\n",
    "assert(np.linalg.norm(psi.to_vec() - np.array([1, 0, 1, 0])/np.sqrt(2))<1e-13)\n",
    "\n",
    "psi.apply(\"CNOT\", [0, 1])\n",
    "assert(np.linalg.norm(psi.to_vec() - np.array([1, 0, 0, 1])/np.sqrt(2))<1e-13)\n",
    "\n",
    "psi.apply(\"CNOT\", [0, 1])\n",
    "assert(np.linalg.norm(psi.to_vec() - np.array([1, 0, 1, 0])/np.sqrt(2))<1e-13)\n",
    "\n",
    "psi.apply(\"CNOT\", [1, 0])\n",
    "assert(np.linalg.norm(psi.to_vec() - np.array([1, 0, 1, 0])/np.sqrt(2))<1e-13)\n",
    "\n",
    "psi.apply(\"RY\", [1], np.pi/2)\n",
    "assert(np.linalg.norm(psi.to_vec() - np.array([1, 1, 1, 1])/2)<1e-13)\n",
    "\n",
    "# test with a circuit\n",
    "circ = Circuit(2, [(\"H\", [0]), (\"CNOT\", [0, 1])])\n",
    "\n",
    "qpu = StateVectorQPU(2)\n",
    "res = qpu.submit(circ)\n",
    "\n",
    "print(res)"
   ]
  },
  {
   "cell_type": "markdown",
   "id": "93b3841f",
   "metadata": {},
   "source": [
    "## Playing with random circuits"
   ]
  },
  {
   "cell_type": "code",
   "execution_count": 3,
   "id": "c6cc9ffc",
   "metadata": {},
   "outputs": [
    {
     "data": {
      "image/png": "[encoded data removed]",
      "text/plain": [
       "<Figure size 640x480 with 1 Axes>"
      ]
     },
     "metadata": {},
     "output_type": "display_data"
    }
   ],
   "source": [
    "from tools import random_circuit\n",
    "\n",
    "for nqbits in [6,10,20]:\n",
    "\n",
    "    circ = random_circuit(nqbits, 6)\n",
    "    qpu = StateVectorQPU(nqbits)\n",
    "    res2 = qpu.submit(circ)\n",
    "\n",
    "    data = abs(res2.to_vec())**2 # the probabilities\n",
    "    probs = np.linspace(0, 5, 50)\n",
    "\n",
    "    # multiply by 2^n to have more probabilities close to 1\n",
    "    plt.hist(data*(2**nqbits), bins=probs, label=nqbits, density=True)\n",
    "\n",
    "plt.plot(probs, np.exp(- probs), '--k', label = \"Porter Thomas\")\n",
    "\n",
    "plt.legend();"
   ]
  },
  {
   "cell_type": "markdown",
   "id": "ac9ddbd2",
   "metadata": {},
   "source": [
    "## Going further\n",
    "\n",
    "- implement controlled gates\n",
    "- implement a quantum Fourier transform (using a recursive method)"
   ]
  },
  {
   "cell_type": "code",
   "execution_count": null,
   "id": "fda11cf1",
   "metadata": {},
   "outputs": [],
   "source": []
  }
 ],
 "metadata": {
  "kernelspec": {
   "display_name": "Python 3 (ipykernel)",
   "language": "python",
   "name": "python3"
  },
  "language_info": {
   "codemirror_mode": {
    "name": "ipython",
    "version": 3
   },
   "file_extension": ".py",
   "mimetype": "text/x-python",
   "name": "python",
   "nbconvert_exporter": "python",
   "pygments_lexer": "ipython3",
   "version": "3.10.13"
  }
 },
 "nbformat": 4,
 "nbformat_minor": 5
}
